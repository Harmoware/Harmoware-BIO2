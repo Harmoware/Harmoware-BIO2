{
 "cells": [
  {
   "cell_type": "code",
   "execution_count": 25,
   "metadata": {},
   "outputs": [
    {
     "name": "stdout",
     "output_type": "stream",
     "text": [
      "········\n",
      "git-command.ipynb\n",
      "imageLib2.py\n",
      "LICENSE\n",
      "omronEyeLib2.py\n",
      "opera_conn.xml\n",
      "operaDB2.py\n",
      "__pycache__\n",
      "README.md\n",
      "sensorLib2.py\n",
      "ttdcGlassLib2.py\n",
      "vizEyetracking_example2.ipynb\n",
      "\n"
     ]
    }
   ],
   "source": [
    "import getpass\n",
    "import subprocess\n",
    "\n",
    "password = getpass.getpass()\n",
    "command = 'git add .'\n",
    "print(subprocess.check_output(\"ls\", shell=True).decode('UTF-8'))"
   ]
  },
  {
   "cell_type": "code",
   "execution_count": null,
   "metadata": {
    "collapsed": true
   },
   "outputs": [],
   "source": [
    "#git add\n"
   ]
  }
 ],
 "metadata": {
  "kernelspec": {
   "display_name": "Python 3",
   "language": "python",
   "name": "python3"
  },
  "language_info": {
   "codemirror_mode": {
    "name": "ipython",
    "version": 3
   },
   "file_extension": ".py",
   "mimetype": "text/x-python",
   "name": "python",
   "nbconvert_exporter": "python",
   "pygments_lexer": "ipython3",
   "version": "3.5.2"
  }
 },
 "nbformat": 4,
 "nbformat_minor": 2
}
