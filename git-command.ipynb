{
 "cells": [
  {
   "cell_type": "code",
   "execution_count": 25,
   "metadata": {},
   "outputs": [
    {
     "name": "stdout",
     "output_type": "stream",
     "text": [
      "········\n",
      "git-command.ipynb\n",
      "imageLib2.py\n",
      "LICENSE\n",
      "omronEyeLib2.py\n",
      "opera_conn.xml\n",
      "operaDB2.py\n",
      "__pycache__\n",
      "README.md\n",
      "sensorLib2.py\n",
      "ttdcGlassLib2.py\n",
      "vizEyetracking_example2.ipynb\n",
      "\n"
     ]
    }
   ],
   "source": [
    "import getpass\n",
    "import subprocess\n",
    "\n",
    "password = getpass.getpass()\n",
    "command = 'git add .'\n",
    "print(subprocess.check_output(\"ls\", shell=True).decode('UTF-8'))"
   ]
  },
  {
   "cell_type": "code",
   "execution_count": 26,
   "metadata": {},
   "outputs": [
    {
     "name": "stdout",
     "output_type": "stream",
     "text": [
      "\n"
     ]
    }
   ],
   "source": [
    "#git add\n",
    "command = 'git add .'\n",
    "print(subprocess.check_output(command, shell=True).decode('UTF-8'))"
   ]
  },
  {
   "cell_type": "code",
   "execution_count": 27,
   "metadata": {},
   "outputs": [
    {
     "name": "stdout",
     "output_type": "stream",
     "text": [
      "On branch master\n",
      "Your branch is up-to-date with 'origin/master'.\n",
      "Changes to be committed:\n",
      "  (use \"git reset HEAD <file>...\" to unstage)\n",
      "\n",
      "\tmodified:   .gitignore\n",
      "\tnew file:   git-command.ipynb\n",
      "\tnew file:   imageLib2.py\n",
      "\tnew file:   omronEyeLib2.py\n",
      "\tnew file:   operaDB2.py\n",
      "\tnew file:   sensorLib2.py\n",
      "\tnew file:   ttdcGlassLib2.py\n",
      "\tnew file:   vizEyetracking_example2.ipynb\n",
      "\n",
      "\n"
     ]
    }
   ],
   "source": [
    "#git status\n",
    "command = 'git status .'\n",
    "print(subprocess.check_output(command, shell=True).decode('UTF-8'))"
   ]
  },
  {
   "cell_type": "code",
   "execution_count": 29,
   "metadata": {},
   "outputs": [
    {
     "name": "stdout",
     "output_type": "stream",
     "text": [
      "[master 716f068] initially commit\n",
      " 8 files changed, 1077 insertions(+)\n",
      " create mode 100644 git-command.ipynb\n",
      " create mode 100644 imageLib2.py\n",
      " create mode 100644 omronEyeLib2.py\n",
      " create mode 100644 operaDB2.py\n",
      " create mode 100644 sensorLib2.py\n",
      " create mode 100644 ttdcGlassLib2.py\n",
      " create mode 100644 vizEyetracking_example2.ipynb\n",
      "\n"
     ]
    }
   ],
   "source": [
    "#git commit\n",
    "message = '\\'initially commit\\''\n",
    "command = 'git commit -m ' + message\n",
    "print(subprocess.check_output(command, shell=True).decode('UTF-8'))"
   ]
  },
  {
   "cell_type": "code",
   "execution_count": null,
   "metadata": {
    "collapsed": true
   },
   "outputs": [],
   "source": [
    "#git push\n"
   ]
  }
 ],
 "metadata": {
  "kernelspec": {
   "display_name": "Python 3",
   "language": "python",
   "name": "python3"
  },
  "language_info": {
   "codemirror_mode": {
    "name": "ipython",
    "version": 3
   },
   "file_extension": ".py",
   "mimetype": "text/x-python",
   "name": "python",
   "nbconvert_exporter": "python",
   "pygments_lexer": "ipython3",
   "version": "3.5.2"
  }
 },
 "nbformat": 4,
 "nbformat_minor": 2
}
